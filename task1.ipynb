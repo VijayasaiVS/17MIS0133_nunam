{
 "cells": [
  {
   "cell_type": "markdown",
   "metadata": {},
   "source": [
    "Separate Data file as per Name of the sheets,combine them and convert to CSVs "
   ]
  },
  {
   "cell_type": "code",
   "execution_count": 1,
   "metadata": {},
   "outputs": [],
   "source": [
    "import pandas as pd\n",
    "import os\n",
    "import json"
   ]
  },
  {
   "cell_type": "code",
   "execution_count": 2,
   "metadata": {},
   "outputs": [],
   "source": [
    "#Storing File Directory Location\n",
    "file1='./data/data.xlsx'\n",
    "file2='./data/data_1.xlsx'"
   ]
  },
  {
   "cell_type": "code",
   "execution_count": 3,
   "metadata": {},
   "outputs": [],
   "source": [
    "#Getting Excel File 1 and Storing in the variable\n",
    "excel1=pd.read_excel(file1,sheet_name=None)"
   ]
  },
  {
   "cell_type": "code",
   "execution_count": 4,
   "metadata": {},
   "outputs": [],
   "source": [
    "#Getting Excel File 2 and Storing in the variable\n",
    "excel2=pd.read_excel(file2,sheet_name=None)"
   ]
  },
  {
   "cell_type": "code",
   "execution_count": 5,
   "metadata": {},
   "outputs": [
    {
     "name": "stdout",
     "output_type": "stream",
     "text": [
      "['Info', 'Cycle_67_1_1', 'Statis_67_1_1', 'Detail_67_1_1', 'Detail_67_1_1_1', 'Detail_67_1_1_2', 'Detail_67_1_1_3', 'Detail_67_1_1_4', 'Detail_67_1_1_5', 'Detail_67_1_1_6', 'DetailVol_67_1_1', 'DetailVol_67_1_1_1', 'DetailVol_67_1_1_2', 'DetailVol_67_1_1_3', 'DetailVol_67_1_1_4', 'DetailVol_67_1_1_5', 'DetailVol_67_1_1_6', 'DetailTemp_67_1_1', 'DetailTemp_67_1_1_1', 'DetailTemp_67_1_1_2']\n"
     ]
    }
   ],
   "source": [
    "#Getting Name of all Sheets in Excel 1\n",
    "excel1_keys=excel1.keys()\n",
    "all_keys_1=[]\n",
    "for i in excel1_keys:\n",
    "    all_keys_1.append(i)\n",
    "print(all_keys_1)"
   ]
  },
  {
   "cell_type": "code",
   "execution_count": 6,
   "metadata": {},
   "outputs": [
    {
     "name": "stdout",
     "output_type": "stream",
     "text": [
      "['DetailTemp_67_1_1_3', 'DetailTemp_67_1_1_4', 'DetailTemp_67_1_1_5', 'DetailTemp_67_1_1_6']\n"
     ]
    }
   ],
   "source": [
    "#Getting Name of all Sheets in Excel 2\n",
    "excel2_keys=excel2.keys()\n",
    "all_keys_2=[]\n",
    "for i in excel2_keys:\n",
    "    all_keys_2.append(i)\n",
    "print(all_keys_2)"
   ]
  },
  {
   "cell_type": "code",
   "execution_count": 7,
   "metadata": {},
   "outputs": [
    {
     "name": "stdout",
     "output_type": "stream",
     "text": [
      "['Detail_67_1_1', 'Detail_67_1_1_1', 'Detail_67_1_1_2', 'Detail_67_1_1_3', 'Detail_67_1_1_4', 'Detail_67_1_1_5', 'Detail_67_1_1_6']\n"
     ]
    }
   ],
   "source": [
    "#Choosing only Detail_67 sheets alone and storing them in list\n",
    "detail=[]\n",
    "for i in range(0,len(all_keys_1)):\n",
    "    if(all_keys_1[i].startswith('Detail_67')):\n",
    "        detail.append(all_keys_1[i])\n",
    "print(detail)"
   ]
  },
  {
   "cell_type": "code",
   "execution_count": 8,
   "metadata": {},
   "outputs": [
    {
     "name": "stdout",
     "output_type": "stream",
     "text": [
      "['DetailVol_67_1_1', 'DetailVol_67_1_1_1', 'DetailVol_67_1_1_2', 'DetailVol_67_1_1_3', 'DetailVol_67_1_1_4', 'DetailVol_67_1_1_5', 'DetailVol_67_1_1_6']\n"
     ]
    }
   ],
   "source": [
    "#Choosing only DetailVol sheets alone and storing them in list\n",
    "detailVol=[]\n",
    "for i in range(0,len(all_keys_1)):\n",
    "    if(all_keys_1[i].startswith('DetailVol_67')):\n",
    "        detailVol.append(all_keys_1[i])\n",
    "print(detailVol)"
   ]
  },
  {
   "cell_type": "code",
   "execution_count": 9,
   "metadata": {},
   "outputs": [
    {
     "name": "stdout",
     "output_type": "stream",
     "text": [
      "['DetailTemp_67_1_1', 'DetailTemp_67_1_1_1', 'DetailTemp_67_1_1_2']\n"
     ]
    }
   ],
   "source": [
    "#Choosing only DetailTemp sheets alone and storing them in list in Excel 1\n",
    "detailtemp=[]\n",
    "for i in range(0,len(all_keys_1)):\n",
    "    if(all_keys_1[i].startswith('DetailTemp_67')):\n",
    "        detailtemp.append(all_keys_1[i])\n",
    "print(detailtemp)"
   ]
  },
  {
   "cell_type": "code",
   "execution_count": 10,
   "metadata": {},
   "outputs": [
    {
     "name": "stdout",
     "output_type": "stream",
     "text": [
      "['DetailTemp_67_1_1_3', 'DetailTemp_67_1_1_4', 'DetailTemp_67_1_1_5', 'DetailTemp_67_1_1_6']\n"
     ]
    }
   ],
   "source": [
    "#Choosing only DetailTemp sheets alone and storing them in list in Excel 2\n",
    "detailtemp1=[]\n",
    "for i in range(0,len(all_keys_2)):\n",
    "    if(all_keys_2[i].startswith('DetailTemp_67')):\n",
    "        detailtemp1.append(all_keys_2[i])\n",
    "print(detailtemp1)"
   ]
  },
  {
   "cell_type": "code",
   "execution_count": 11,
   "metadata": {},
   "outputs": [],
   "source": [
    "#Concat the Details, DetailVol, DetailTemp from each List that i previously stored and making a Dataframe of them\n",
    "detail_df=pd.concat(pd.read_excel(file1,sheet_name=detail),ignore_index=True)\n",
    "detailVol_df=pd.concat(pd.read_excel(file1,sheet_name=detailVol),ignore_index=True)\n",
    "detailtemp_df1=pd.concat(pd.read_excel(file1,sheet_name=detailtemp),ignore_index=True)\n",
    "detail_temp_df2=pd.concat(pd.read_excel(file2,sheet_name=detailtemp1),ignore_index=True)"
   ]
  },
  {
   "cell_type": "code",
   "execution_count": 12,
   "metadata": {},
   "outputs": [],
   "source": [
    "#DetailTemp1 and DetailTemp2 is concatenated now to form a single Dataframe\n",
    "detailtemp_df=pd.concat([detailtemp_df1,detail_temp_df2],ignore_index=True)"
   ]
  },
  {
   "cell_type": "code",
   "execution_count": 13,
   "metadata": {},
   "outputs": [],
   "source": [
    "#Dropping any duplicate Data present in the Dataframe\n",
    "detail_df.drop_duplicates('Record Index',keep='first',inplace=True)\n",
    "detailVol_df.drop_duplicates('Record ID',keep='first',inplace=True)\n",
    "detailtemp_df.drop_duplicates('Record ID',keep='first',inplace=True)"
   ]
  },
  {
   "cell_type": "code",
   "execution_count": 14,
   "metadata": {},
   "outputs": [],
   "source": [
    "#Finally converting Dataframes to CSV files\n",
    "if not os.path.exists('./processed_data'):\n",
    "    os.makedirs('./processed_data')\n",
    "detail_df.to_csv('./processed_data/detail.csv',index=False)\n",
    "detailVol_df.to_csv('./processed_data/detailVol.csv',index=False)\n",
    "detailtemp_df.to_csv('./processed_data/detailTemp.csv',index=False)"
   ]
  },
  {
   "cell_type": "code",
   "execution_count": null,
   "metadata": {},
   "outputs": [],
   "source": []
  }
 ],
 "metadata": {
  "kernelspec": {
   "display_name": "Python 3",
   "language": "python",
   "name": "python3"
  },
  "language_info": {
   "codemirror_mode": {
    "name": "ipython",
    "version": 3
   },
   "file_extension": ".py",
   "mimetype": "text/x-python",
   "name": "python",
   "nbconvert_exporter": "python",
   "pygments_lexer": "ipython3",
   "version": "3.7.9"
  },
  "metadata": {
   "interpreter": {
    "hash": "f0a871581a008f9484cd9f91783a53466b88136a8385a870e585a87e0d1d3998"
   }
  }
 },
 "nbformat": 4,
 "nbformat_minor": 2
}
