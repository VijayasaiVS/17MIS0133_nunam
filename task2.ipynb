{
 "cells": [
  {
   "cell_type": "markdown",
   "metadata": {},
   "source": [
    "Resample the data as '1 Data/Minute' and save it as a separate CSV files"
   ]
  },
  {
   "cell_type": "code",
   "execution_count": 1,
   "metadata": {},
   "outputs": [],
   "source": [
    "import pandas as pd\n",
    "import os"
   ]
  },
  {
   "cell_type": "code",
   "execution_count": 2,
   "metadata": {},
   "outputs": [],
   "source": [
    "#Saving Location of CSV files for reading\n",
    "file1='./processed_data/detail.csv'\n",
    "file2='./processed_data/detailVol.csv'\n",
    "file3='./processed_data/detailTemp.csv'"
   ]
  },
  {
   "cell_type": "code",
   "execution_count": 3,
   "metadata": {},
   "outputs": [],
   "source": [
    "#Converting CSV to Dataframes\n",
    "detail_df=pd.DataFrame(pd.read_csv(file1))\n",
    "detailVol_df=pd.DataFrame(pd.read_csv(file2))\n",
    "detailTemp_df=pd.DataFrame(pd.read_csv(file3))"
   ]
  },
  {
   "cell_type": "code",
   "execution_count": 4,
   "metadata": {},
   "outputs": [],
   "source": [
    "#Converting Object to Dattime datatype\n",
    "detail_df['Absolute Time']=pd.to_datetime(detail_df['Absolute Time'])\n",
    "#Detail CSV is converted from RangeIndex to TimedIndex\n",
    "detail_df.set_index('Absolute Time',drop=False,inplace=True)"
   ]
  },
  {
   "cell_type": "code",
   "execution_count": 5,
   "metadata": {},
   "outputs": [],
   "source": [
    "#Converting Object to Dattime datatype\n",
    "detailVol_df['Realtime']=pd.to_datetime(detailVol_df['Realtime'])\n",
    "#DetailVol CSV is converted from RangeIndex to TimedIndex\n",
    "detailVol_df.set_index('Realtime',drop=False,inplace=True)"
   ]
  },
  {
   "cell_type": "code",
   "execution_count": 6,
   "metadata": {},
   "outputs": [],
   "source": [
    "#Converting Object to Dattime datatype\n",
    "detailTemp_df['Realtime']=pd.to_datetime(detailTemp_df['Realtime'])\n",
    "#DetailTemp CSV is converted from RangeIndex to TimedIndex\n",
    "detailTemp_df.set_index('Realtime',drop=False,inplace=True)"
   ]
  },
  {
   "cell_type": "code",
   "execution_count": 7,
   "metadata": {},
   "outputs": [
    {
     "name": "stdout",
     "output_type": "stream",
     "text": [
      "<class 'pandas.core.frame.DataFrame'>\n",
      "DatetimeIndex: 7643 entries, 2020-10-10 20:03:00 to 2020-10-16 03:25:00\n",
      "Freq: T\n",
      "Data columns (total 11 columns):\n",
      " #   Column                     Non-Null Count  Dtype         \n",
      "---  ------                     --------------  -----         \n",
      " 0   Record Index               6944 non-null   float64       \n",
      " 1   Status                     6944 non-null   object        \n",
      " 2   JumpTo                     6944 non-null   float64       \n",
      " 3   Cycle                      6944 non-null   float64       \n",
      " 4   Step                       6944 non-null   float64       \n",
      " 5   Cur(mA)                    6944 non-null   float64       \n",
      " 6   Voltage(V)                 6944 non-null   float64       \n",
      " 7   CapaCity(mAh)              6944 non-null   float64       \n",
      " 8   Energy(mWh)                6944 non-null   float64       \n",
      " 9   Relative Time(h:min:s.ms)  6944 non-null   object        \n",
      " 10  Absolute Time              6944 non-null   datetime64[ns]\n",
      "dtypes: datetime64[ns](1), float64(8), object(2)\n",
      "memory usage: 716.5+ KB\n"
     ]
    }
   ],
   "source": [
    "#Detail CSV is being resample to T Frequency which is 1 minute\n",
    "detail_df=detail_df.resample('T').last() #Last data of that minute is taken into account\n",
    "detail_df.info()"
   ]
  },
  {
   "cell_type": "code",
   "execution_count": 8,
   "metadata": {},
   "outputs": [
    {
     "name": "stdout",
     "output_type": "stream",
     "text": [
      "<class 'pandas.core.frame.DataFrame'>\n",
      "DatetimeIndex: 7643 entries, 2020-10-10 20:03:00 to 2020-10-16 03:25:00\n",
      "Freq: T\n",
      "Data columns (total 6 columns):\n",
      " #   Column                      Non-Null Count  Dtype         \n",
      "---  ------                      --------------  -----         \n",
      " 0   Record ID                   6944 non-null   float64       \n",
      " 1   Step Name                   6944 non-null   object        \n",
      " 2   Relative Time(h:min:s.ms)   6944 non-null   object        \n",
      " 3   Realtime                    6944 non-null   datetime64[ns]\n",
      " 4   Auxiliary channel TU1 U(V)  6944 non-null   float64       \n",
      " 5   Gap of Voltage              6944 non-null   float64       \n",
      "dtypes: datetime64[ns](1), float64(3), object(2)\n",
      "memory usage: 418.0+ KB\n"
     ]
    }
   ],
   "source": [
    "#DetailVol CSV is being resample to T Frequency which is 1 minute\n",
    "detailVol_df=detailVol_df.resample('T').last()#Last data of that minute is taken into account\n",
    "detailVol_df.info()"
   ]
  },
  {
   "cell_type": "code",
   "execution_count": 9,
   "metadata": {},
   "outputs": [
    {
     "name": "stdout",
     "output_type": "stream",
     "text": [
      "<class 'pandas.core.frame.DataFrame'>\n",
      "DatetimeIndex: 7643 entries, 2020-10-10 20:03:00 to 2020-10-16 03:25:00\n",
      "Freq: T\n",
      "Data columns (total 6 columns):\n",
      " #   Column                       Non-Null Count  Dtype         \n",
      "---  ------                       --------------  -----         \n",
      " 0   Record ID                    6944 non-null   float64       \n",
      " 1   Step Name                    6944 non-null   object        \n",
      " 2   Relative Time(h:min:s.ms)    6944 non-null   object        \n",
      " 3   Realtime                     6944 non-null   datetime64[ns]\n",
      " 4   Auxiliary channel TU1 T(°C)  6944 non-null   float64       \n",
      " 5   Gap of Temperature           6944 non-null   float64       \n",
      "dtypes: datetime64[ns](1), float64(3), object(2)\n",
      "memory usage: 418.0+ KB\n"
     ]
    }
   ],
   "source": [
    "#DetailTemp CSV is being resample to T Frequency which is 1 minute\n",
    "detailTemp_df=detailTemp_df.resample('T').last() #Last data of that minute is taken into account\n",
    "detailTemp_df.info()"
   ]
  },
  {
   "cell_type": "code",
   "execution_count": 10,
   "metadata": {},
   "outputs": [],
   "source": [
    "#Converting the resampled Dataframe to CSV file in a Folder named Processed\n",
    "if not os.path.exists('./processed_data'):\n",
    "    os.makedirs('./processed_data')\n",
    "detail_df.to_csv(r'./processed_data/detailDownsampled.csv',index=False)\n",
    "detailVol_df.to_csv(r'./processed_data/detailVolDownsampled.csv',index=False)\n",
    "detailTemp_df.to_csv(r'./processed_data/detailTempDownsampled.csv',index=False)"
   ]
  }
 ],
 "metadata": {
  "kernelspec": {
   "display_name": "Python 3",
   "language": "python",
   "name": "python3"
  },
  "language_info": {
   "codemirror_mode": {
    "name": "ipython",
    "version": 3
   },
   "file_extension": ".py",
   "mimetype": "text/x-python",
   "name": "python",
   "nbconvert_exporter": "python",
   "pygments_lexer": "ipython3",
   "version": "3.7.9"
  },
  "metadata": {
   "interpreter": {
    "hash": "f0a871581a008f9484cd9f91783a53466b88136a8385a870e585a87e0d1d3998"
   }
  }
 },
 "nbformat": 4,
 "nbformat_minor": 2
}
